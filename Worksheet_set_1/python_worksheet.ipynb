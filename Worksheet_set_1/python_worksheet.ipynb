{
 "cells": [
  {
   "cell_type": "markdown",
   "metadata": {},
   "source": [
    "#                                       Python Worksheet"
   ]
  },
  {
   "cell_type": "markdown",
   "metadata": {},
   "source": [
    "1)  Which of the following operators is used to calculate remainder in a division?\n"
   ]
  },
  {
   "cell_type": "markdown",
   "metadata": {},
   "source": [
    " Ans :- C) %"
   ]
  },
  {
   "cell_type": "markdown",
   "metadata": {},
   "source": [
    "2)In python 2//3 is qual to ?\n",
    "\n",
    " Ans:- B) 0"
   ]
  },
  {
   "cell_type": "markdown",
   "metadata": {},
   "source": [
    "3) In python, 6<<2 is equal to?\n",
    "\n",
    "Ans:- C) 24"
   ]
  },
  {
   "cell_type": "markdown",
   "metadata": {},
   "source": [
    "4)  In python, 6&2 will give which of the following as output?\n",
    "\n",
    "Ans:- A) 2"
   ]
  },
  {
   "cell_type": "markdown",
   "metadata": {},
   "source": [
    "5) In python, 6|2 will give which of the following as output?\n",
    "\n",
    "Ans:- D) 6"
   ]
  },
  {
   "cell_type": "markdown",
   "metadata": {},
   "source": [
    "6) What does the finally keyword denotes in python?\n",
    "\n",
    "Ans:- C) the finally block will be executed no matter if the try block raises an error or not."
   ]
  },
  {
   "cell_type": "markdown",
   "metadata": {},
   "source": [
    "7) What does raise keyword is used for in python?\n",
    "\n",
    "Ans:- A)  It is used to raise an exception."
   ]
  },
  {
   "cell_type": "markdown",
   "metadata": {},
   "source": [
    "8) Which of the following is a common use case of yield keyword in python?\n",
    "\n",
    "Ans:- C) in defining a generator"
   ]
  },
  {
   "cell_type": "markdown",
   "metadata": {},
   "source": [
    "9) Which of the following are the valid variable names?\n",
    "\n",
    "Ans:- A)  _abc\n",
    "\n",
    "     C) abc2"
   ]
  },
  {
   "cell_type": "markdown",
   "metadata": {},
   "source": [
    "10) Which of the following are the keywords in python?\n",
    "\n",
    "Ans:-  A) Yield\n",
    "    \n",
    "     B) raise"
   ]
  },
  {
   "cell_type": "markdown",
   "metadata": {},
   "source": [
    "# 11) Write a python program to find the factorial of a number\n",
    " "
   ]
  },
  {
   "cell_type": "code",
   "execution_count": 59,
   "metadata": {},
   "outputs": [],
   "source": [
    "def fact(n):\n",
    "    f = 1\n",
    "    for i in range (1,n+1):\n",
    "        f = f*i\n",
    "        \n",
    "        return f\n",
    "    x = 5\n",
    "    \n",
    "    result = fact(x)\n",
    "    \n",
    "    print(result)"
   ]
  },
  {
   "cell_type": "markdown",
   "metadata": {},
   "source": [
    "#  12) Write a python program to find whether a number is prime or composite."
   ]
  },
  {
   "cell_type": "code",
   "execution_count": null,
   "metadata": {},
   "outputs": [],
   "source": [
    "num = int(input(\"enter a number\"))\n",
    "if num<=1:\n",
    "    print num, \"is not a prime number\"\n",
    "    else:\n",
    "        for i in range(2,num):\n",
    "            if(num%i)==0:\n",
    "                print num, \"is not a prime number\"\n",
    "                break\n",
    "                else:\n",
    "                    print num, \"is a prime number\""
   ]
  },
  {
   "cell_type": "markdown",
   "metadata": {},
   "source": [
    "# 13) Write a python program to check whether a given string is palindrome or not."
   ]
  },
  {
   "cell_type": "code",
   "execution_count": null,
   "metadata": {},
   "outputs": [],
   "source": [
    "number = int(input())\n",
    "temp = number\n",
    "reverse = 0\n",
    "\n",
    "while(number>0):\n",
    "    dig = number%10\n",
    "    reverse = reverse *10 + dig\n",
    "    number = number//10\n",
    "    \n",
    "    if temp==reverse:\n",
    "        print(\"Number is a palidrome\")\n",
    "        else:\n",
    "            print(\"Number is not a palidrame\")"
   ]
  },
  {
   "cell_type": "markdown",
   "metadata": {},
   "source": [
    "# 14 Write a Python program to get the third side of right-angled triangle from two given sides.\n"
   ]
  },
  {
   "cell_type": "code",
   "execution_count": null,
   "metadata": {},
   "outputs": [],
   "source": [
    "totalrow = int(input(\"Enter the number of rows\"))\n",
    "\n",
    "for row in range(1, totalrows+1):\n",
    "    \n",
    "    #display space\n",
    "    for space in range(1, (totalrows-row)+1):\n",
    "        print(\" \", end=\"\")\n",
    "        \n",
    "        #display *\n",
    "        for symbol in range(1, row+1):\n",
    "            print(\"*\",end=\"\")"
   ]
  },
  {
   "cell_type": "markdown",
   "metadata": {},
   "source": [
    "# 15) Write a python program to print the frequency of each of the characters present in a given string "
   ]
  },
  {
   "cell_type": "code",
   "execution_count": null,
   "metadata": {},
   "outputs": [],
   "source": [
    "user_str = input('Enter string :')\n",
    " l = user_str.split()\n",
    "    d = {}\n",
    "    for i in l :\n",
    "        d[i] = d.get(i, 0)+1\n",
    "        print(d)"
   ]
  },
  {
   "cell_type": "markdown",
   "metadata": {},
   "source": []
  }
 ],
 "metadata": {
  "kernelspec": {
   "display_name": "Python 3",
   "language": "python",
   "name": "python3"
  },
  "language_info": {
   "codemirror_mode": {
    "name": "ipython",
    "version": 3
   },
   "file_extension": ".py",
   "mimetype": "text/x-python",
   "name": "python",
   "nbconvert_exporter": "python",
   "pygments_lexer": "ipython3",
   "version": "3.8.5"
  }
 },
 "nbformat": 4,
 "nbformat_minor": 4
}
